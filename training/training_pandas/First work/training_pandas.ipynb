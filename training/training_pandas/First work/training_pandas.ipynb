{
 "metadata": {
  "language_info": {
   "codemirror_mode": {
    "name": "ipython",
    "version": 3
   },
   "file_extension": ".py",
   "mimetype": "text/x-python",
   "name": "python",
   "nbconvert_exporter": "python",
   "pygments_lexer": "ipython3",
   "version": "3.8.1-final"
  },
  "orig_nbformat": 2,
  "kernelspec": {
   "name": "python381jvsc74a57bd083bd6fc0f453774b976b3b20250a7a201dd0d7315b68878f8afbe07743d6ebfc",
   "display_name": "Python 3.8.1 32-bit"
  },
  "metadata": {
   "interpreter": {
    "hash": "83bd6fc0f453774b976b3b20250a7a201dd0d7315b68878f8afbe07743d6ebfc"
   }
  }
 },
 "nbformat": 4,
 "nbformat_minor": 2,
 "cells": [
  {
   "source": [
    "movies_data = pd.read_csv('files/movies.csv', index_col='Title')\n",
    "movies_data.columns = ['Grade', 'Type','Mark']\n",
    "movies_data.columns = [col.lower() for col in movies_data]\n",
    "movies_data.plot(kind='line', x='grade', y='mark', title='Grade vs mark')"
   ],
   "cell_type": "code",
   "metadata": {},
   "execution_count": null,
   "outputs": []
  },
  {
   "cell_type": "code",
   "execution_count": null,
   "metadata": {},
   "outputs": [],
   "source": []
  }
 ]
}